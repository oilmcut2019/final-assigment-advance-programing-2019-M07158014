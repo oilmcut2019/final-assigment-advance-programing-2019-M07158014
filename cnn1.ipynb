{
 "cells": [
  {
   "cell_type": "code",
   "execution_count": 1,
   "metadata": {},
   "outputs": [
    {
     "name": "stderr",
     "output_type": "stream",
     "text": [
      "Using TensorFlow backend.\n"
     ]
    }
   ],
   "source": [
    "# %load cnn.py\n",
    "# Convolutional Neural Network\n",
    "\n",
    "# Installing Theano\n",
    "# pip install --upgrade --no-deps git+git://github.com/Theano/Theano.git\n",
    "\n",
    "# Installing Tensorflow\n",
    "# Install Tensorflow from the website: https://www.tensorflow.org/versions/r0.12/get_started/os_setup.html\n",
    "\n",
    "# Installing Keras\n",
    "# pip install --upgrade keras\n",
    "\n",
    "# Part 1 - Building the CNN\n",
    "\n",
    "# Importing the Keras libraries and packages\n",
    "from keras.models import Sequential\n",
    "from keras.layers import Convolution2D\n",
    "from keras.layers import MaxPooling2D\n",
    "from keras.layers import Flatten\n",
    "from keras.layers import Dense"
   ]
  },
  {
   "cell_type": "code",
   "execution_count": 2,
   "metadata": {},
   "outputs": [],
   "source": [
    "# Initialising the CNN\n",
    "classifier = Sequential()"
   ]
  },
  {
   "cell_type": "code",
   "execution_count": 3,
   "metadata": {},
   "outputs": [
    {
     "name": "stdout",
     "output_type": "stream",
     "text": [
      "WARNING:tensorflow:From C:\\ProgramData\\Anaconda3\\lib\\site-packages\\tensorflow\\python\\framework\\op_def_library.py:263: colocate_with (from tensorflow.python.framework.ops) is deprecated and will be removed in a future version.\n",
      "Instructions for updating:\n",
      "Colocations handled automatically by placer.\n"
     ]
    },
    {
     "name": "stderr",
     "output_type": "stream",
     "text": [
      "C:\\ProgramData\\Anaconda3\\lib\\site-packages\\ipykernel_launcher.py:3: UserWarning: Update your `Conv2D` call to the Keras 2 API: `Conv2D(32, (3, 3), input_shape=(64, 64, 3..., activation=\"relu\")`\n",
      "  This is separate from the ipykernel package so we can avoid doing imports until\n"
     ]
    }
   ],
   "source": [
    "#                             Feature detector\n",
    "# Step 1 - Convolution     32-FD數量  3,3-FD大小      64,64圖片大小 3表示彩色的圖片     rectifier\n",
    "classifier.add(Convolution2D(32, 3, 3, input_shape = (64, 64, 3), activation = 'relu'))\n",
    "# Step 2 - Pooling                       池化的大小\n",
    "classifier.add(MaxPooling2D(pool_size = (2, 2)))"
   ]
  },
  {
   "cell_type": "code",
   "execution_count": 4,
   "metadata": {},
   "outputs": [
    {
     "name": "stderr",
     "output_type": "stream",
     "text": [
      "C:\\ProgramData\\Anaconda3\\lib\\site-packages\\ipykernel_launcher.py:2: UserWarning: Update your `Conv2D` call to the Keras 2 API: `Conv2D(32, (3, 3), activation=\"relu\")`\n",
      "  \n"
     ]
    }
   ],
   "source": [
    "# Adding a second convolutional layer\n",
    "classifier.add(Convolution2D(32, 3, 3, activation = 'relu'))\n",
    "classifier.add(MaxPooling2D(pool_size = (2, 2)))"
   ]
  },
  {
   "cell_type": "code",
   "execution_count": 5,
   "metadata": {},
   "outputs": [],
   "source": [
    "# Step 3 - Flattening\n",
    "classifier.add(Flatten())"
   ]
  },
  {
   "cell_type": "code",
   "execution_count": 6,
   "metadata": {},
   "outputs": [],
   "source": [
    "# Step 4 - Full connection 隱藏層 神經元數量    \n",
    "classifier.add(Dense(units = 64, activation = 'relu'))\n",
    "#                          輸出層\n",
    "classifier.add(Dense(units = 1, activation = 'sigmoid'))"
   ]
  },
  {
   "cell_type": "code",
   "execution_count": 7,
   "metadata": {},
   "outputs": [],
   "source": [
    "# Compiling the CNN   優化器              損失函數                      性能評估器\n",
    "classifier.compile(optimizer = 'adam', loss = 'binary_crossentropy', metrics = ['accuracy'])"
   ]
  },
  {
   "cell_type": "code",
   "execution_count": 8,
   "metadata": {},
   "outputs": [],
   "source": [
    "# Part 2 - Fitting the CNN to the images\n",
    "\n",
    "from keras.preprocessing.image import ImageDataGenerator"
   ]
  },
  {
   "cell_type": "code",
   "execution_count": 9,
   "metadata": {},
   "outputs": [],
   "source": [
    "#                                rescale  將像素值轉為0~1之間的數字\n",
    "train_datagen = ImageDataGenerator(rescale = 1./255,\n",
    "                                   shear_range = 0.2,\n",
    "                                   zoom_range = 0.2,\n",
    "                                   horizontal_flip = True)\n",
    "\n",
    "test_datagen = ImageDataGenerator(rescale = 1./255)"
   ]
  },
  {
   "cell_type": "code",
   "execution_count": 10,
   "metadata": {},
   "outputs": [
    {
     "name": "stdout",
     "output_type": "stream",
     "text": [
      "Found 8000 images belonging to 2 classes.\n",
      "Found 2000 images belonging to 2 classes.\n"
     ]
    }
   ],
   "source": [
    "training_set = train_datagen.flow_from_directory('dataset/training_set',\n",
    "                                                 target_size = (64, 64),\n",
    "                                                 batch_size = 32,\n",
    "                                                 class_mode = 'binary')\n",
    "\n",
    "test_set = test_datagen.flow_from_directory('dataset/test_set',\n",
    "                                            target_size = (64, 64),\n",
    "                                            batch_size = 32,\n",
    "                                            class_mode = 'binary')"
   ]
  },
  {
   "cell_type": "code",
   "execution_count": 11,
   "metadata": {},
   "outputs": [
    {
     "name": "stdout",
     "output_type": "stream",
     "text": [
      "WARNING:tensorflow:From C:\\ProgramData\\Anaconda3\\lib\\site-packages\\tensorflow\\python\\ops\\math_ops.py:3066: to_int32 (from tensorflow.python.ops.math_ops) is deprecated and will be removed in a future version.\n",
      "Instructions for updating:\n",
      "Use tf.cast instead.\n",
      "Epoch 1/25\n",
      "80/80 [==============================] - 51s 639ms/step - loss: 0.6928 - acc: 0.5312 - val_loss: 0.7109 - val_acc: 0.5078\n",
      "Epoch 2/25\n",
      "80/80 [==============================] - 47s 582ms/step - loss: 0.6759 - acc: 0.5574 - val_loss: 0.6988 - val_acc: 0.5437\n",
      "Epoch 3/25\n",
      "80/80 [==============================] - 45s 557ms/step - loss: 0.6776 - acc: 0.5859 - val_loss: 0.6485 - val_acc: 0.6234\n",
      "Epoch 4/25\n",
      "80/80 [==============================] - 45s 560ms/step - loss: 0.6319 - acc: 0.6395 - val_loss: 0.6287 - val_acc: 0.6683\n",
      "Epoch 5/25\n",
      "80/80 [==============================] - 46s 578ms/step - loss: 0.6150 - acc: 0.6633 - val_loss: 0.6106 - val_acc: 0.6875\n",
      "Epoch 6/25\n",
      "80/80 [==============================] - 46s 574ms/step - loss: 0.6108 - acc: 0.6695 - val_loss: 0.6337 - val_acc: 0.6672\n",
      "Epoch 7/25\n",
      "80/80 [==============================] - 45s 564ms/step - loss: 0.5667 - acc: 0.7047 - val_loss: 0.5787 - val_acc: 0.6891\n",
      "Epoch 8/25\n",
      "80/80 [==============================] - 44s 556ms/step - loss: 0.5497 - acc: 0.7148 - val_loss: 0.5638 - val_acc: 0.7188\n",
      "Epoch 9/25\n",
      "80/80 [==============================] - 46s 578ms/step - loss: 0.5657 - acc: 0.6922 - val_loss: 0.5500 - val_acc: 0.7219\n",
      "Epoch 10/25\n",
      "80/80 [==============================] - 46s 569ms/step - loss: 0.5487 - acc: 0.7156 - val_loss: 0.5339 - val_acc: 0.7500\n",
      "Epoch 11/25\n",
      "80/80 [==============================] - 45s 559ms/step - loss: 0.5378 - acc: 0.7297 - val_loss: 0.5200 - val_acc: 0.7312\n",
      "Epoch 12/25\n",
      "80/80 [==============================] - 44s 553ms/step - loss: 0.5175 - acc: 0.7461 - val_loss: 0.5221 - val_acc: 0.7438\n",
      "Epoch 13/25\n",
      "80/80 [==============================] - 49s 616ms/step - loss: 0.5106 - acc: 0.7375 - val_loss: 0.5098 - val_acc: 0.7628\n",
      "Epoch 14/25\n",
      "80/80 [==============================] - 45s 560ms/step - loss: 0.5057 - acc: 0.7535 - val_loss: 0.4935 - val_acc: 0.7625\n",
      "Epoch 15/25\n",
      "80/80 [==============================] - 45s 566ms/step - loss: 0.5216 - acc: 0.7316 - val_loss: 0.4931 - val_acc: 0.7578\n",
      "Epoch 16/25\n",
      "80/80 [==============================] - 45s 561ms/step - loss: 0.4948 - acc: 0.7668 - val_loss: 0.4936 - val_acc: 0.7724\n",
      "Epoch 17/25\n",
      "80/80 [==============================] - 45s 563ms/step - loss: 0.4763 - acc: 0.7734 - val_loss: 0.4962 - val_acc: 0.7531\n",
      "Epoch 18/25\n",
      "80/80 [==============================] - 46s 574ms/step - loss: 0.4795 - acc: 0.7719 - val_loss: 0.4553 - val_acc: 0.7953\n",
      "Epoch 19/25\n",
      "80/80 [==============================] - 46s 576ms/step - loss: 0.4709 - acc: 0.7734 - val_loss: 0.4755 - val_acc: 0.7901\n",
      "Epoch 20/25\n",
      "80/80 [==============================] - 48s 605ms/step - loss: 0.4451 - acc: 0.7855 - val_loss: 0.4665 - val_acc: 0.7719\n",
      "Epoch 21/25\n",
      "80/80 [==============================] - 54s 669ms/step - loss: 0.4709 - acc: 0.7750 - val_loss: 0.4916 - val_acc: 0.7781\n",
      "Epoch 22/25\n",
      "80/80 [==============================] - 51s 633ms/step - loss: 0.4822 - acc: 0.7730 - val_loss: 0.5064 - val_acc: 0.7531\n",
      "Epoch 23/25\n",
      "80/80 [==============================] - 49s 612ms/step - loss: 0.4506 - acc: 0.7988 - val_loss: 0.4536 - val_acc: 0.7885\n",
      "Epoch 24/25\n",
      "80/80 [==============================] - 44s 556ms/step - loss: 0.4495 - acc: 0.7883 - val_loss: 0.4702 - val_acc: 0.7859\n",
      "Epoch 25/25\n",
      "80/80 [==============================] - 43s 539ms/step - loss: 0.4467 - acc: 0.7895 - val_loss: 0.4905 - val_acc: 0.7578\n"
     ]
    },
    {
     "data": {
      "text/plain": [
       "<keras.callbacks.History at 0x184c4015518>"
      ]
     },
     "execution_count": 11,
     "metadata": {},
     "output_type": "execute_result"
    }
   ],
   "source": [
    "classifier.fit_generator(training_set,\n",
    "                         steps_per_epoch = 80,\n",
    "                         epochs = 25,\n",
    "                         validation_data = test_set,\n",
    "                         validation_steps = 20)"
   ]
  },
  {
   "cell_type": "code",
   "execution_count": null,
   "metadata": {},
   "outputs": [],
   "source": []
  }
 ],
 "metadata": {
  "kernelspec": {
   "display_name": "Python 3",
   "language": "python",
   "name": "python3"
  },
  "language_info": {
   "codemirror_mode": {
    "name": "ipython",
    "version": 3
   },
   "file_extension": ".py",
   "mimetype": "text/x-python",
   "name": "python",
   "nbconvert_exporter": "python",
   "pygments_lexer": "ipython3",
   "version": "3.7.1"
  }
 },
 "nbformat": 4,
 "nbformat_minor": 2
}
