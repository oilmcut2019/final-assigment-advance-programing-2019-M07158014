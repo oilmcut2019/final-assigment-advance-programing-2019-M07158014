{
 "cells": [
  {
   "cell_type": "code",
   "execution_count": 1,
   "metadata": {},
   "outputs": [
    {
     "name": "stderr",
     "output_type": "stream",
     "text": [
      "Using TensorFlow backend.\n"
     ]
    }
   ],
   "source": [
    "# %load cnn.py\n",
    "# Convolutional Neural Network\n",
    "\n",
    "# Installing Theano\n",
    "# pip install --upgrade --no-deps git+git://github.com/Theano/Theano.git\n",
    "\n",
    "# Installing Tensorflow\n",
    "# Install Tensorflow from the website: https://www.tensorflow.org/versions/r0.12/get_started/os_setup.html\n",
    "\n",
    "# Installing Keras\n",
    "# pip install --upgrade keras\n",
    "\n",
    "# Part 1 - Building the CNN\n",
    "\n",
    "# Importing the Keras libraries and packages\n",
    "from keras.models import Sequential\n",
    "from keras.layers import Convolution2D\n",
    "from keras.layers import MaxPooling2D\n",
    "from keras.layers import Flatten\n",
    "from keras.layers import Dense"
   ]
  },
  {
   "cell_type": "code",
   "execution_count": 2,
   "metadata": {},
   "outputs": [],
   "source": [
    "# Initialising the CNN\n",
    "classifier = Sequential()"
   ]
  },
  {
   "cell_type": "code",
   "execution_count": 3,
   "metadata": {},
   "outputs": [
    {
     "name": "stdout",
     "output_type": "stream",
     "text": [
      "WARNING:tensorflow:From C:\\ProgramData\\Anaconda3\\lib\\site-packages\\tensorflow\\python\\framework\\op_def_library.py:263: colocate_with (from tensorflow.python.framework.ops) is deprecated and will be removed in a future version.\n",
      "Instructions for updating:\n",
      "Colocations handled automatically by placer.\n"
     ]
    },
    {
     "name": "stderr",
     "output_type": "stream",
     "text": [
      "C:\\ProgramData\\Anaconda3\\lib\\site-packages\\ipykernel_launcher.py:3: UserWarning: Update your `Conv2D` call to the Keras 2 API: `Conv2D(32, (3, 3), input_shape=(64, 64, 3..., activation=\"relu\")`\n",
      "  This is separate from the ipykernel package so we can avoid doing imports until\n"
     ]
    }
   ],
   "source": [
    "#                             Feature detector\n",
    "# Step 1 - Convolution     32-FD數量  3,3-FD大小      64,64圖片大小 3表示彩色的圖片     rectifier\n",
    "classifier.add(Convolution2D(32, 3, 3, input_shape = (64, 64, 3), activation = 'relu'))\n",
    "# Step 2 - Pooling                       池化的大小\n",
    "classifier.add(MaxPooling2D(pool_size = (2, 2)))"
   ]
  },
  {
   "cell_type": "code",
   "execution_count": 4,
   "metadata": {},
   "outputs": [
    {
     "name": "stderr",
     "output_type": "stream",
     "text": [
      "C:\\ProgramData\\Anaconda3\\lib\\site-packages\\ipykernel_launcher.py:2: UserWarning: Update your `Conv2D` call to the Keras 2 API: `Conv2D(32, (3, 3), activation=\"relu\")`\n",
      "  \n"
     ]
    }
   ],
   "source": [
    "# Adding a second convolutional layer\n",
    "classifier.add(Convolution2D(32, 3, 3, activation = 'relu'))\n",
    "classifier.add(MaxPooling2D(pool_size = (2, 2)))"
   ]
  },
  {
   "cell_type": "code",
   "execution_count": 5,
   "metadata": {},
   "outputs": [],
   "source": [
    "# Step 3 - Flattening\n",
    "classifier.add(Flatten())"
   ]
  },
  {
   "cell_type": "code",
   "execution_count": 6,
   "metadata": {},
   "outputs": [],
   "source": [
    "# Step 4 - Full connection 隱藏層 神經元數量    \n",
    "classifier.add(Dense(units = 64, activation = 'relu'))\n",
    "classifier.add(Dense(units = 64, activation = 'relu'))\n",
    "#                          輸出層\n",
    "classifier.add(Dense(units = 1, activation = 'sigmoid'))"
   ]
  },
  {
   "cell_type": "code",
   "execution_count": 7,
   "metadata": {},
   "outputs": [],
   "source": [
    "# Compiling the CNN   優化器              損失函數                      性能評估器\n",
    "classifier.compile(optimizer = 'adam', loss = 'binary_crossentropy', metrics = ['accuracy'])"
   ]
  },
  {
   "cell_type": "code",
   "execution_count": 8,
   "metadata": {},
   "outputs": [],
   "source": [
    "# Part 2 - Fitting the CNN to the images\n",
    "\n",
    "from keras.preprocessing.image import ImageDataGenerator"
   ]
  },
  {
   "cell_type": "code",
   "execution_count": 9,
   "metadata": {},
   "outputs": [],
   "source": [
    "#                                rescale  將像素值轉為0~1之間的數字\n",
    "train_datagen = ImageDataGenerator(rescale = 1./255,\n",
    "                                   shear_range = 0.2,\n",
    "                                   zoom_range = 0.2,\n",
    "                                   horizontal_flip = True)\n",
    "\n",
    "test_datagen = ImageDataGenerator(rescale = 1./255)"
   ]
  },
  {
   "cell_type": "code",
   "execution_count": 10,
   "metadata": {},
   "outputs": [
    {
     "name": "stdout",
     "output_type": "stream",
     "text": [
      "Found 8000 images belonging to 2 classes.\n",
      "Found 2000 images belonging to 2 classes.\n"
     ]
    }
   ],
   "source": [
    "training_set = train_datagen.flow_from_directory('dataset/training_set',\n",
    "                                                 target_size = (64, 64),\n",
    "                                                 batch_size = 32,\n",
    "                                                 class_mode = 'binary')\n",
    "\n",
    "test_set = test_datagen.flow_from_directory('dataset/test_set',\n",
    "                                            target_size = (64, 64),\n",
    "                                            batch_size = 32,\n",
    "                                            class_mode = 'binary')"
   ]
  },
  {
   "cell_type": "code",
   "execution_count": 11,
   "metadata": {},
   "outputs": [
    {
     "name": "stdout",
     "output_type": "stream",
     "text": [
      "WARNING:tensorflow:From C:\\ProgramData\\Anaconda3\\lib\\site-packages\\tensorflow\\python\\ops\\math_ops.py:3066: to_int32 (from tensorflow.python.ops.math_ops) is deprecated and will be removed in a future version.\n",
      "Instructions for updating:\n",
      "Use tf.cast instead.\n",
      "Epoch 1/25\n",
      "80/80 [==============================] - 61s 764ms/step - loss: 0.6940 - acc: 0.5164 - val_loss: 0.6848 - val_acc: 0.5766\n",
      "Epoch 2/25\n",
      "80/80 [==============================] - 47s 587ms/step - loss: 0.6789 - acc: 0.5781 - val_loss: 0.6662 - val_acc: 0.5984\n",
      "Epoch 3/25\n",
      "80/80 [==============================] - 44s 546ms/step - loss: 0.6544 - acc: 0.6250 - val_loss: 0.6289 - val_acc: 0.6531\n",
      "Epoch 4/25\n",
      "80/80 [==============================] - 45s 558ms/step - loss: 0.6191 - acc: 0.6500 - val_loss: 0.5952 - val_acc: 0.6891\n",
      "Epoch 5/25\n",
      "80/80 [==============================] - 43s 538ms/step - loss: 0.6003 - acc: 0.6762 - val_loss: 0.5884 - val_acc: 0.6953\n",
      "Epoch 6/25\n",
      "80/80 [==============================] - 44s 547ms/step - loss: 0.5815 - acc: 0.6922 - val_loss: 0.5628 - val_acc: 0.7156\n",
      "Epoch 7/25\n",
      "80/80 [==============================] - 43s 535ms/step - loss: 0.5545 - acc: 0.7129 - val_loss: 0.5332 - val_acc: 0.7484\n",
      "Epoch 8/25\n",
      "80/80 [==============================] - 43s 539ms/step - loss: 0.5708 - acc: 0.7070 - val_loss: 0.6081 - val_acc: 0.6672\n",
      "Epoch 9/25\n",
      "80/80 [==============================] - 44s 550ms/step - loss: 0.5734 - acc: 0.6953 - val_loss: 0.5797 - val_acc: 0.6984\n",
      "Epoch 10/25\n",
      "80/80 [==============================] - 43s 533ms/step - loss: 0.5425 - acc: 0.7355 - val_loss: 0.5050 - val_acc: 0.7324\n",
      "Epoch 11/25\n",
      "80/80 [==============================] - 44s 553ms/step - loss: 0.5430 - acc: 0.7105 - val_loss: 0.5588 - val_acc: 0.7094\n",
      "Epoch 12/25\n",
      "80/80 [==============================] - 43s 538ms/step - loss: 0.5157 - acc: 0.7484 - val_loss: 0.5087 - val_acc: 0.7609\n",
      "Epoch 13/25\n",
      "80/80 [==============================] - 43s 533ms/step - loss: 0.5198 - acc: 0.7336 - val_loss: 0.5817 - val_acc: 0.7163\n",
      "Epoch 14/25\n",
      "80/80 [==============================] - 43s 537ms/step - loss: 0.5199 - acc: 0.7441 - val_loss: 0.5525 - val_acc: 0.7125\n",
      "Epoch 15/25\n",
      "80/80 [==============================] - 43s 543ms/step - loss: 0.5155 - acc: 0.7441 - val_loss: 0.5268 - val_acc: 0.7438\n",
      "Epoch 16/25\n",
      "80/80 [==============================] - 43s 533ms/step - loss: 0.5016 - acc: 0.7488 - val_loss: 0.5299 - val_acc: 0.7468\n",
      "Epoch 17/25\n",
      "80/80 [==============================] - 54s 678ms/step - loss: 0.4944 - acc: 0.7621 - val_loss: 0.4973 - val_acc: 0.7688\n",
      "Epoch 18/25\n",
      "80/80 [==============================] - 44s 550ms/step - loss: 0.5021 - acc: 0.7453 - val_loss: 0.4938 - val_acc: 0.7688\n",
      "Epoch 19/25\n",
      "80/80 [==============================] - 44s 544ms/step - loss: 0.4924 - acc: 0.7586 - val_loss: 0.4911 - val_acc: 0.7644\n",
      "Epoch 20/25\n",
      "80/80 [==============================] - 43s 542ms/step - loss: 0.4492 - acc: 0.7914 - val_loss: 0.5331 - val_acc: 0.7625\n",
      "Epoch 21/25\n",
      "80/80 [==============================] - 44s 547ms/step - loss: 0.4961 - acc: 0.7500 - val_loss: 0.5020 - val_acc: 0.7391\n",
      "Epoch 22/25\n",
      "80/80 [==============================] - 44s 547ms/step - loss: 0.4835 - acc: 0.7656 - val_loss: 0.4566 - val_acc: 0.7734\n",
      "Epoch 23/25\n",
      "80/80 [==============================] - 43s 534ms/step - loss: 0.4710 - acc: 0.7711 - val_loss: 0.5037 - val_acc: 0.7484\n",
      "Epoch 24/25\n",
      "80/80 [==============================] - 44s 545ms/step - loss: 0.4675 - acc: 0.7734 - val_loss: 0.4987 - val_acc: 0.7688\n",
      "Epoch 25/25\n",
      "80/80 [==============================] - 44s 548ms/step - loss: 0.4606 - acc: 0.7848 - val_loss: 0.4415 - val_acc: 0.8094\n"
     ]
    },
    {
     "data": {
      "text/plain": [
       "<keras.callbacks.History at 0x1af3585cb70>"
      ]
     },
     "execution_count": 11,
     "metadata": {},
     "output_type": "execute_result"
    }
   ],
   "source": [
    "classifier.fit_generator(training_set,\n",
    "                         steps_per_epoch = 80,\n",
    "                         epochs = 25,\n",
    "                         validation_data = test_set,\n",
    "                         validation_steps = 20)"
   ]
  },
  {
   "cell_type": "code",
   "execution_count": null,
   "metadata": {},
   "outputs": [],
   "source": []
  }
 ],
 "metadata": {
  "kernelspec": {
   "display_name": "Python 3",
   "language": "python",
   "name": "python3"
  },
  "language_info": {
   "codemirror_mode": {
    "name": "ipython",
    "version": 3
   },
   "file_extension": ".py",
   "mimetype": "text/x-python",
   "name": "python",
   "nbconvert_exporter": "python",
   "pygments_lexer": "ipython3",
   "version": "3.7.1"
  }
 },
 "nbformat": 4,
 "nbformat_minor": 2
}
