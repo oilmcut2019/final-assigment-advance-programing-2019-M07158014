{
 "cells": [
  {
   "cell_type": "code",
   "execution_count": 1,
   "metadata": {},
   "outputs": [
    {
     "name": "stderr",
     "output_type": "stream",
     "text": [
      "Using TensorFlow backend.\n"
     ]
    }
   ],
   "source": [
    "# %load cnn.py\n",
    "# Convolutional Neural Network\n",
    "\n",
    "# Installing Theano\n",
    "# pip install --upgrade --no-deps git+git://github.com/Theano/Theano.git\n",
    "\n",
    "# Installing Tensorflow\n",
    "# Install Tensorflow from the website: https://www.tensorflow.org/versions/r0.12/get_started/os_setup.html\n",
    "\n",
    "# Installing Keras\n",
    "# pip install --upgrade keras\n",
    "\n",
    "# Part 1 - Building the CNN\n",
    "\n",
    "# Importing the Keras libraries and packages\n",
    "from keras.models import Sequential\n",
    "from keras.layers import Convolution2D\n",
    "from keras.layers import MaxPooling2D\n",
    "from keras.layers import Flatten\n",
    "from keras.layers import Dense"
   ]
  },
  {
   "cell_type": "code",
   "execution_count": 2,
   "metadata": {},
   "outputs": [],
   "source": [
    "# Initialising the CNN\n",
    "classifier = Sequential()"
   ]
  },
  {
   "cell_type": "code",
   "execution_count": 3,
   "metadata": {},
   "outputs": [
    {
     "name": "stdout",
     "output_type": "stream",
     "text": [
      "WARNING:tensorflow:From C:\\ProgramData\\Anaconda3\\lib\\site-packages\\tensorflow\\python\\framework\\op_def_library.py:263: colocate_with (from tensorflow.python.framework.ops) is deprecated and will be removed in a future version.\n",
      "Instructions for updating:\n",
      "Colocations handled automatically by placer.\n"
     ]
    },
    {
     "name": "stderr",
     "output_type": "stream",
     "text": [
      "C:\\ProgramData\\Anaconda3\\lib\\site-packages\\ipykernel_launcher.py:3: UserWarning: Update your `Conv2D` call to the Keras 2 API: `Conv2D(32, (3, 3), input_shape=(64, 64, 3..., activation=\"relu\")`\n",
      "  This is separate from the ipykernel package so we can avoid doing imports until\n"
     ]
    }
   ],
   "source": [
    "#                             Feature detector\n",
    "# Step 1 - Convolution     32-FD數量  3,3-FD大小      64,64圖片大小 3表示彩色的圖片     rectifier\n",
    "classifier.add(Convolution2D(32, 3, 3, input_shape = (64, 64, 3), activation = 'relu'))\n",
    "# Step 2 - Pooling                       池化的大小\n",
    "classifier.add(MaxPooling2D(pool_size = (2, 2)))"
   ]
  },
  {
   "cell_type": "code",
   "execution_count": 4,
   "metadata": {},
   "outputs": [
    {
     "name": "stderr",
     "output_type": "stream",
     "text": [
      "C:\\ProgramData\\Anaconda3\\lib\\site-packages\\ipykernel_launcher.py:2: UserWarning: Update your `Conv2D` call to the Keras 2 API: `Conv2D(32, (3, 3), activation=\"relu\")`\n",
      "  \n"
     ]
    }
   ],
   "source": [
    "# Adding a second convolutional layer\n",
    "classifier.add(Convolution2D(32, 3, 3, activation = 'relu'))\n",
    "classifier.add(MaxPooling2D(pool_size = (2, 2)))"
   ]
  },
  {
   "cell_type": "code",
   "execution_count": 5,
   "metadata": {},
   "outputs": [],
   "source": [
    "# Step 3 - Flattening\n",
    "classifier.add(Flatten())"
   ]
  },
  {
   "cell_type": "code",
   "execution_count": 6,
   "metadata": {},
   "outputs": [],
   "source": [
    "# Step 4 - Full connection 隱藏層 神經元數量    \n",
    "classifier.add(Dense(units = 128, activation = 'relu'))\n",
    "#                          輸出層\n",
    "classifier.add(Dense(units = 1, activation = 'sigmoid'))"
   ]
  },
  {
   "cell_type": "code",
   "execution_count": 7,
   "metadata": {},
   "outputs": [],
   "source": [
    "# Compiling the CNN\n",
    "classifier.compile(optimizer = 'adam', loss = 'binary_crossentropy', metrics = ['accuracy'])"
   ]
  },
  {
   "cell_type": "code",
   "execution_count": 8,
   "metadata": {},
   "outputs": [],
   "source": [
    "# Part 2 - Fitting the CNN to the images\n",
    "\n",
    "from keras.preprocessing.image import ImageDataGenerator"
   ]
  },
  {
   "cell_type": "code",
   "execution_count": 9,
   "metadata": {},
   "outputs": [],
   "source": [
    "#                                rescale  將像素值轉為0~1之間的數字\n",
    "train_datagen = ImageDataGenerator(rescale = 1./255,\n",
    "                                   shear_range = 0.2,\n",
    "                                   zoom_range = 0.2,\n",
    "                                   horizontal_flip = True)\n",
    "\n",
    "test_datagen = ImageDataGenerator(rescale = 1./255)"
   ]
  },
  {
   "cell_type": "code",
   "execution_count": 10,
   "metadata": {},
   "outputs": [
    {
     "name": "stdout",
     "output_type": "stream",
     "text": [
      "Found 8000 images belonging to 2 classes.\n",
      "Found 2000 images belonging to 2 classes.\n"
     ]
    }
   ],
   "source": [
    "training_set = train_datagen.flow_from_directory('dataset/training_set',\n",
    "                                                 target_size = (64, 64),\n",
    "                                                 batch_size = 32,\n",
    "                                                 class_mode = 'binary')\n",
    "\n",
    "test_set = test_datagen.flow_from_directory('dataset/test_set',\n",
    "                                            target_size = (64, 64),\n",
    "                                            batch_size = 32,\n",
    "                                            class_mode = 'binary')"
   ]
  },
  {
   "cell_type": "code",
   "execution_count": 11,
   "metadata": {},
   "outputs": [
    {
     "name": "stdout",
     "output_type": "stream",
     "text": [
      "WARNING:tensorflow:From C:\\ProgramData\\Anaconda3\\lib\\site-packages\\tensorflow\\python\\ops\\math_ops.py:3066: to_int32 (from tensorflow.python.ops.math_ops) is deprecated and will be removed in a future version.\n",
      "Instructions for updating:\n",
      "Use tf.cast instead.\n",
      "Epoch 1/25\n",
      "80/80 [==============================] - 47s 586ms/step - loss: 0.7090 - acc: 0.5391 - val_loss: 0.6792 - val_acc: 0.5250\n",
      "Epoch 2/25\n",
      "80/80 [==============================] - 46s 577ms/step - loss: 0.6683 - acc: 0.5844 - val_loss: 0.6491 - val_acc: 0.6438\n",
      "Epoch 3/25\n",
      "80/80 [==============================] - 45s 566ms/step - loss: 0.6465 - acc: 0.6273 - val_loss: 0.6254 - val_acc: 0.6453\n",
      "Epoch 4/25\n",
      "80/80 [==============================] - 53s 665ms/step - loss: 0.6188 - acc: 0.6527 - val_loss: 0.6319 - val_acc: 0.6250\n",
      "Epoch 5/25\n",
      "80/80 [==============================] - 49s 618ms/step - loss: 0.5974 - acc: 0.6723 - val_loss: 0.6069 - val_acc: 0.6641\n",
      "Epoch 6/25\n",
      "80/80 [==============================] - 48s 601ms/step - loss: 0.5845 - acc: 0.6934 - val_loss: 0.6016 - val_acc: 0.6687\n",
      "Epoch 7/25\n",
      "80/80 [==============================] - 46s 571ms/step - loss: 0.5600 - acc: 0.7059 - val_loss: 0.5266 - val_acc: 0.7340\n",
      "Epoch 8/25\n",
      "80/80 [==============================] - 46s 570ms/step - loss: 0.5660 - acc: 0.7000 - val_loss: 0.5993 - val_acc: 0.6906\n",
      "Epoch 9/25\n",
      "80/80 [==============================] - 44s 544ms/step - loss: 0.5294 - acc: 0.7348 - val_loss: 0.5218 - val_acc: 0.7625\n",
      "Epoch 10/25\n",
      "80/80 [==============================] - 44s 551ms/step - loss: 0.5398 - acc: 0.7285 - val_loss: 0.5292 - val_acc: 0.7131\n",
      "Epoch 11/25\n",
      "80/80 [==============================] - 46s 574ms/step - loss: 0.5328 - acc: 0.7352 - val_loss: 0.5202 - val_acc: 0.7328\n",
      "Epoch 12/25\n",
      "80/80 [==============================] - 44s 549ms/step - loss: 0.5235 - acc: 0.7320 - val_loss: 0.5994 - val_acc: 0.7172\n",
      "Epoch 13/25\n",
      "80/80 [==============================] - 47s 583ms/step - loss: 0.5012 - acc: 0.7508 - val_loss: 0.5217 - val_acc: 0.7420\n",
      "Epoch 14/25\n",
      "80/80 [==============================] - 46s 578ms/step - loss: 0.5149 - acc: 0.7484 - val_loss: 0.5029 - val_acc: 0.7547\n",
      "Epoch 15/25\n",
      "80/80 [==============================] - 47s 584ms/step - loss: 0.5083 - acc: 0.7457 - val_loss: 0.5231 - val_acc: 0.7578\n",
      "Epoch 16/25\n",
      "80/80 [==============================] - 49s 613ms/step - loss: 0.4822 - acc: 0.7637 - val_loss: 0.5098 - val_acc: 0.7692\n",
      "Epoch 17/25\n",
      "80/80 [==============================] - 45s 567ms/step - loss: 0.4806 - acc: 0.7668 - val_loss: 0.4627 - val_acc: 0.7953\n",
      "Epoch 18/25\n",
      "80/80 [==============================] - 45s 564ms/step - loss: 0.4830 - acc: 0.7605 - val_loss: 0.5139 - val_acc: 0.7500\n",
      "Epoch 19/25\n",
      "80/80 [==============================] - 45s 564ms/step - loss: 0.4821 - acc: 0.7742 - val_loss: 0.5117 - val_acc: 0.7596\n",
      "Epoch 20/25\n",
      "80/80 [==============================] - 45s 568ms/step - loss: 0.4663 - acc: 0.7742 - val_loss: 0.5288 - val_acc: 0.7656\n",
      "Epoch 21/25\n",
      "80/80 [==============================] - 46s 571ms/step - loss: 0.5059 - acc: 0.7484 - val_loss: 0.5438 - val_acc: 0.7516\n",
      "Epoch 22/25\n",
      "80/80 [==============================] - 47s 582ms/step - loss: 0.4531 - acc: 0.7852 - val_loss: 0.4583 - val_acc: 0.7734\n",
      "Epoch 23/25\n",
      "80/80 [==============================] - 45s 567ms/step - loss: 0.4682 - acc: 0.7777 - val_loss: 0.5028 - val_acc: 0.7628\n",
      "Epoch 24/25\n",
      "80/80 [==============================] - 48s 602ms/step - loss: 0.4574 - acc: 0.7832 - val_loss: 0.4574 - val_acc: 0.7875\n",
      "Epoch 25/25\n",
      "80/80 [==============================] - 46s 572ms/step - loss: 0.4356 - acc: 0.8004 - val_loss: 0.5171 - val_acc: 0.7719\n"
     ]
    },
    {
     "data": {
      "text/plain": [
       "<keras.callbacks.History at 0x12e5d2e2860>"
      ]
     },
     "execution_count": 11,
     "metadata": {},
     "output_type": "execute_result"
    }
   ],
   "source": [
    "classifier.fit_generator(training_set,\n",
    "                         steps_per_epoch = 80,\n",
    "                         epochs = 25,\n",
    "                         validation_data = test_set,\n",
    "                         validation_steps = 20)"
   ]
  },
  {
   "cell_type": "code",
   "execution_count": null,
   "metadata": {},
   "outputs": [],
   "source": []
  }
 ],
 "metadata": {
  "kernelspec": {
   "display_name": "Python 3",
   "language": "python",
   "name": "python3"
  },
  "language_info": {
   "codemirror_mode": {
    "name": "ipython",
    "version": 3
   },
   "file_extension": ".py",
   "mimetype": "text/x-python",
   "name": "python",
   "nbconvert_exporter": "python",
   "pygments_lexer": "ipython3",
   "version": "3.7.1"
  }
 },
 "nbformat": 4,
 "nbformat_minor": 2
}
