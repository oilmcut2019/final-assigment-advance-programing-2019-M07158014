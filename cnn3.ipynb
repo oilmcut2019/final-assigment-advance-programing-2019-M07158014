{
 "cells": [
  {
   "cell_type": "code",
   "execution_count": 1,
   "metadata": {},
   "outputs": [
    {
     "name": "stderr",
     "output_type": "stream",
     "text": [
      "Using TensorFlow backend.\n"
     ]
    }
   ],
   "source": [
    "# %load cnn.py\n",
    "# Convolutional Neural Network\n",
    "\n",
    "# Installing Theano\n",
    "# pip install --upgrade --no-deps git+git://github.com/Theano/Theano.git\n",
    "\n",
    "# Installing Tensorflow\n",
    "# Install Tensorflow from the website: https://www.tensorflow.org/versions/r0.12/get_started/os_setup.html\n",
    "\n",
    "# Installing Keras\n",
    "# pip install --upgrade keras\n",
    "\n",
    "# Part 1 - Building the CNN\n",
    "\n",
    "# Importing the Keras libraries and packages\n",
    "from keras.models import Sequential\n",
    "from keras.layers import Convolution2D\n",
    "from keras.layers import MaxPooling2D\n",
    "from keras.layers import Flatten\n",
    "from keras.layers import Dense"
   ]
  },
  {
   "cell_type": "code",
   "execution_count": 2,
   "metadata": {},
   "outputs": [],
   "source": [
    "# Initialising the CNN\n",
    "classifier = Sequential()"
   ]
  },
  {
   "cell_type": "code",
   "execution_count": 3,
   "metadata": {},
   "outputs": [
    {
     "name": "stderr",
     "output_type": "stream",
     "text": [
      "C:\\ProgramData\\Anaconda3\\lib\\site-packages\\ipykernel_launcher.py:3: UserWarning: Update your `Conv2D` call to the Keras 2 API: `Conv2D(32, (3, 3), input_shape=(64, 64, 3..., activation=\"relu\")`\n",
      "  This is separate from the ipykernel package so we can avoid doing imports until\n"
     ]
    },
    {
     "name": "stdout",
     "output_type": "stream",
     "text": [
      "WARNING:tensorflow:From C:\\ProgramData\\Anaconda3\\lib\\site-packages\\tensorflow\\python\\framework\\op_def_library.py:263: colocate_with (from tensorflow.python.framework.ops) is deprecated and will be removed in a future version.\n",
      "Instructions for updating:\n",
      "Colocations handled automatically by placer.\n"
     ]
    }
   ],
   "source": [
    "#                             Feature detector\n",
    "# Step 1 - Convolution     32-FD數量  3,3-FD大小      64,64圖片大小 3表示彩色的圖片     rectifier\n",
    "classifier.add(Convolution2D(32, 3, 3, input_shape = (64, 64, 3), activation = 'relu'))\n",
    "# Step 2 - Pooling                       池化的大小\n",
    "classifier.add(MaxPooling2D(pool_size = (2, 2)))"
   ]
  },
  {
   "cell_type": "code",
   "execution_count": 4,
   "metadata": {},
   "outputs": [
    {
     "name": "stderr",
     "output_type": "stream",
     "text": [
      "C:\\ProgramData\\Anaconda3\\lib\\site-packages\\ipykernel_launcher.py:2: UserWarning: Update your `Conv2D` call to the Keras 2 API: `Conv2D(32, (3, 3), activation=\"relu\")`\n",
      "  \n"
     ]
    }
   ],
   "source": [
    "# Adding a second convolutional layer\n",
    "classifier.add(Convolution2D(32, 3, 3, activation = 'relu'))\n",
    "classifier.add(MaxPooling2D(pool_size = (2, 2)))"
   ]
  },
  {
   "cell_type": "code",
   "execution_count": 5,
   "metadata": {},
   "outputs": [],
   "source": [
    "# Step 3 - Flattening\n",
    "classifier.add(Flatten())"
   ]
  },
  {
   "cell_type": "code",
   "execution_count": 6,
   "metadata": {},
   "outputs": [],
   "source": [
    "# Step 4 - Full connection 隱藏層 神經元數量    \n",
    "classifier.add(Dense(units = 128, activation = 'relu'))\n",
    "classifier.add(Dense(units = 128, activation = 'relu'))\n",
    "#                          輸出層\n",
    "classifier.add(Dense(units = 1, activation = 'sigmoid'))"
   ]
  },
  {
   "cell_type": "code",
   "execution_count": 7,
   "metadata": {},
   "outputs": [],
   "source": [
    "# Compiling the CNN   優化器              損失函數                      性能評估器\n",
    "classifier.compile(optimizer = 'adam', loss = 'binary_crossentropy', metrics = ['accuracy'])"
   ]
  },
  {
   "cell_type": "code",
   "execution_count": 8,
   "metadata": {},
   "outputs": [],
   "source": [
    "# Part 2 - Fitting the CNN to the images\n",
    "\n",
    "from keras.preprocessing.image import ImageDataGenerator"
   ]
  },
  {
   "cell_type": "code",
   "execution_count": 9,
   "metadata": {},
   "outputs": [],
   "source": [
    "#                                rescale  將像素值轉為0~1之間的數字\n",
    "train_datagen = ImageDataGenerator(rescale = 1./255,\n",
    "                                   shear_range = 0.2,\n",
    "                                   zoom_range = 0.2,\n",
    "                                   horizontal_flip = True)\n",
    "\n",
    "test_datagen = ImageDataGenerator(rescale = 1./255)"
   ]
  },
  {
   "cell_type": "code",
   "execution_count": 10,
   "metadata": {},
   "outputs": [
    {
     "name": "stdout",
     "output_type": "stream",
     "text": [
      "Found 8000 images belonging to 2 classes.\n",
      "Found 2000 images belonging to 2 classes.\n"
     ]
    }
   ],
   "source": [
    "training_set = train_datagen.flow_from_directory('dataset/training_set',\n",
    "                                                 target_size = (64, 64),\n",
    "                                                 batch_size = 32,\n",
    "                                                 class_mode = 'binary')\n",
    "\n",
    "test_set = test_datagen.flow_from_directory('dataset/test_set',\n",
    "                                            target_size = (64, 64),\n",
    "                                            batch_size = 32,\n",
    "                                            class_mode = 'binary')"
   ]
  },
  {
   "cell_type": "code",
   "execution_count": 11,
   "metadata": {},
   "outputs": [
    {
     "name": "stdout",
     "output_type": "stream",
     "text": [
      "WARNING:tensorflow:From C:\\ProgramData\\Anaconda3\\lib\\site-packages\\tensorflow\\python\\ops\\math_ops.py:3066: to_int32 (from tensorflow.python.ops.math_ops) is deprecated and will be removed in a future version.\n",
      "Instructions for updating:\n",
      "Use tf.cast instead.\n",
      "Epoch 1/25\n",
      "80/80 [==============================] - 75s 937ms/step - loss: 0.6958 - acc: 0.5332 - val_loss: 0.6874 - val_acc: 0.5469\n",
      "Epoch 2/25\n",
      "80/80 [==============================] - 66s 828ms/step - loss: 0.6754 - acc: 0.5875 - val_loss: 0.6676 - val_acc: 0.5859\n",
      "Epoch 3/25\n",
      "80/80 [==============================] - 65s 810ms/step - loss: 0.6497 - acc: 0.6227 - val_loss: 0.6177 - val_acc: 0.6781\n",
      "Epoch 4/25\n",
      "80/80 [==============================] - 43s 538ms/step - loss: 0.6275 - acc: 0.6535 - val_loss: 0.6096 - val_acc: 0.6827\n",
      "Epoch 5/25\n",
      "80/80 [==============================] - 43s 532ms/step - loss: 0.6039 - acc: 0.6707 - val_loss: 0.6099 - val_acc: 0.6922\n",
      "Epoch 6/25\n",
      "80/80 [==============================] - 43s 539ms/step - loss: 0.5691 - acc: 0.7027 - val_loss: 0.6040 - val_acc: 0.6797\n",
      "Epoch 7/25\n",
      "80/80 [==============================] - 44s 554ms/step - loss: 0.5745 - acc: 0.6965 - val_loss: 0.5391 - val_acc: 0.7372\n",
      "Epoch 8/25\n",
      "80/80 [==============================] - 43s 533ms/step - loss: 0.5464 - acc: 0.7160 - val_loss: 0.5338 - val_acc: 0.7453\n",
      "Epoch 9/25\n",
      "80/80 [==============================] - 44s 549ms/step - loss: 0.5657 - acc: 0.6988 - val_loss: 0.5988 - val_acc: 0.7078\n",
      "Epoch 10/25\n",
      "80/80 [==============================] - 45s 562ms/step - loss: 0.5373 - acc: 0.7273 - val_loss: 0.4883 - val_acc: 0.7772\n",
      "Epoch 11/25\n",
      "80/80 [==============================] - 48s 598ms/step - loss: 0.5365 - acc: 0.7223 - val_loss: 0.5330 - val_acc: 0.7453\n",
      "Epoch 12/25\n",
      "80/80 [==============================] - 45s 558ms/step - loss: 0.5212 - acc: 0.7434 - val_loss: 0.4973 - val_acc: 0.7562\n",
      "Epoch 13/25\n",
      "80/80 [==============================] - 45s 566ms/step - loss: 0.5015 - acc: 0.7555 - val_loss: 0.5870 - val_acc: 0.6987\n",
      "Epoch 14/25\n",
      "80/80 [==============================] - 45s 557ms/step - loss: 0.5124 - acc: 0.7531 - val_loss: 0.5139 - val_acc: 0.7453\n",
      "Epoch 15/25\n",
      "80/80 [==============================] - 47s 583ms/step - loss: 0.4780 - acc: 0.7645 - val_loss: 0.4752 - val_acc: 0.7609\n",
      "Epoch 16/25\n",
      "80/80 [==============================] - 44s 552ms/step - loss: 0.5062 - acc: 0.7480 - val_loss: 0.5174 - val_acc: 0.7612\n",
      "Epoch 17/25\n",
      "80/80 [==============================] - 44s 545ms/step - loss: 0.4724 - acc: 0.7754 - val_loss: 0.4701 - val_acc: 0.7781\n",
      "Epoch 18/25\n",
      "80/80 [==============================] - 44s 548ms/step - loss: 0.4861 - acc: 0.7602 - val_loss: 0.4842 - val_acc: 0.7641\n",
      "Epoch 19/25\n",
      "80/80 [==============================] - 48s 596ms/step - loss: 0.4907 - acc: 0.7660 - val_loss: 0.5051 - val_acc: 0.7756\n",
      "Epoch 20/25\n",
      "80/80 [==============================] - 43s 535ms/step - loss: 0.4804 - acc: 0.7660 - val_loss: 0.4734 - val_acc: 0.7766\n",
      "Epoch 21/25\n",
      "80/80 [==============================] - 43s 537ms/step - loss: 0.4564 - acc: 0.7844 - val_loss: 0.5490 - val_acc: 0.7422\n",
      "Epoch 22/25\n",
      "80/80 [==============================] - 42s 529ms/step - loss: 0.4555 - acc: 0.7793 - val_loss: 0.4316 - val_acc: 0.8047\n",
      "Epoch 23/25\n",
      "80/80 [==============================] - 43s 533ms/step - loss: 0.4625 - acc: 0.7777 - val_loss: 0.4687 - val_acc: 0.7821\n",
      "Epoch 24/25\n",
      "80/80 [==============================] - 44s 550ms/step - loss: 0.4451 - acc: 0.7922 - val_loss: 0.4650 - val_acc: 0.7844\n",
      "Epoch 25/25\n",
      "80/80 [==============================] - 43s 542ms/step - loss: 0.4498 - acc: 0.7852 - val_loss: 0.5264 - val_acc: 0.7703\n"
     ]
    },
    {
     "data": {
      "text/plain": [
       "<keras.callbacks.History at 0x168767789b0>"
      ]
     },
     "execution_count": 11,
     "metadata": {},
     "output_type": "execute_result"
    }
   ],
   "source": [
    "classifier.fit_generator(training_set,\n",
    "                         steps_per_epoch = 80,\n",
    "                         epochs = 25,\n",
    "                         validation_data = test_set,\n",
    "                         validation_steps = 20)"
   ]
  },
  {
   "cell_type": "code",
   "execution_count": null,
   "metadata": {},
   "outputs": [],
   "source": []
  }
 ],
 "metadata": {
  "kernelspec": {
   "display_name": "Python 3",
   "language": "python",
   "name": "python3"
  },
  "language_info": {
   "codemirror_mode": {
    "name": "ipython",
    "version": 3
   },
   "file_extension": ".py",
   "mimetype": "text/x-python",
   "name": "python",
   "nbconvert_exporter": "python",
   "pygments_lexer": "ipython3",
   "version": "3.7.1"
  }
 },
 "nbformat": 4,
 "nbformat_minor": 2
}
